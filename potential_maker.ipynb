{
 "cells": [
  {
   "cell_type": "code",
   "execution_count": 1,
   "metadata": {},
   "outputs": [],
   "source": [
    "import numpy as np\n",
    "import matplotlib.pyplot as plt\n",
    "import agama"
   ]
  },
  {
   "cell_type": "code",
   "execution_count": 2,
   "metadata": {},
   "outputs": [],
   "source": [
    "plt.rcParams['text.usetex'] = True\n",
    "plt.rcParams['mathtext.fontset'] = 'stix'\n",
    "plt.rcParams['font.family'] = 'STIXGeneral'\n",
    "\n",
    "agama.setUnits(length=1, velocity=1, mass=1)\n",
    "\n",
    "figpath = 'figs/'\n",
    "datapath = 'data/'\n",
    "simpath = 'sims/'\n",
    "agama_pot_path = 'agama_potentials/'"
   ]
  },
  {
   "cell_type": "code",
   "execution_count": 9,
   "metadata": {},
   "outputs": [],
   "source": [
    "from scipy.optimize import fsolve, root_scalar\n",
    "\n",
    "R_sun = 8.178\n",
    "\n",
    "# Function to calculate NFW scale radius given masses at two radii\n",
    "def calc_NFW_params(M_inner, M_outer, r_inner=R_sun, r_outer=20):\n",
    "    def mass_ratio(a_NFW, r_inner, r_outer):\n",
    "        return (np.log(1 + r_outer/a_NFW) - r_outer/(a_NFW + r_outer)) / (np.log(1 + r_inner/a_NFW) - r_inner/(a_NFW + r_inner))\n",
    "    \n",
    "    def mass_ratio_diff(a_NFW, M_inner, M_outer, r_inner, r_outer):\n",
    "        return mass_ratio(a_NFW, r_inner, r_outer) - M_outer/M_inner\n",
    "    \n",
    "    initial_guess = 10\n",
    "\n",
    "    result = fsolve(mass_ratio_diff, x0=initial_guess, args=(M_inner, M_outer, r_inner, r_outer), full_output=True)\n",
    "\n",
    "    if result[2] == 1:\n",
    "\n",
    "        a_NFW = result[0][0]\n",
    "        rho_0 = M_inner / (4 * np.pi * a_NFW**3) * (np.log(1 + r_inner/a_NFW) - r_inner/(a_NFW + r_inner))**(-1)\n",
    "\n",
    "        return rho_0, a_NFW\n",
    "\n",
    "    else:\n",
    "        return np.nan, np.nan\n",
    "\n",
    "# Function to calculate potential from local circular velocity and NFW scale radius\n",
    "def make_pot(vcirc_sun, M20, pot_axi_baryon):\n",
    "    # Circular speed\n",
    "    vcirc_baryon = (-R_sun * pot_axi_baryon.force(np.array([R_sun, 0, 0]).T)[0])**0.5\n",
    "    vcirc_dark = (vcirc_sun**2 - vcirc_baryon**2)**0.5\n",
    "\n",
    "    # Calculate model NFW parameters\n",
    "    Menc_sun_dark = R_sun * vcirc_dark**2 / agama.G\n",
    "    M20_baryon = pot_axi_baryon.enclosedMass(20)\n",
    "    M20_dark = M20*1e11 - M20_baryon\n",
    "    \n",
    "    rho_0, a_NFW = calc_NFW_params(Menc_sun_dark, M20_dark)\n",
    "\n",
    "    print(rho_0, a_NFW)\n",
    "\n",
    "    if (np.isnan(rho_0) == False)*(np.isnan(a_NFW) == False):\n",
    "\n",
    "        # Make DM potential\n",
    "        pot_dark = agama.Potential(type='spheroid', densityNorm=rho_0, beta=3, gamma=1, scaleRadius=a_NFW)\n",
    "\n",
    "        # And total potential\n",
    "        pot_mod = agama.Potential(pot_axi_baryon, pot_dark)\n",
    "\n",
    "        return pot_mod\n",
    "    \n",
    "    # Return error value of -1 if potential impossible\n",
    "    else:\n",
    "        return -1"
   ]
  },
  {
   "cell_type": "code",
   "execution_count": null,
   "metadata": {},
   "outputs": [
    {
     "name": "stdout",
     "output_type": "stream",
     "text": [
      "11449369.370078051 16.060983836783233\n"
     ]
    },
    {
     "data": {
      "text/plain": [
       "[<matplotlib.lines.Line2D at 0x14f377b30>]"
      ]
     },
     "execution_count": 14,
     "metadata": {},
     "output_type": "execute_result"
    },
    {
     "data": {
      "image/png": "[encoded data removed]",
      "text/plain": [
       "<Figure size 640x480 with 1 Axes>"
      ]
     },
     "metadata": {},
     "output_type": "display_data"
    }
   ],
   "source": [
    "'''Make potential'''\n",
    "\n",
    "# Load baryonic potential\n",
    "pot_axi_Hunter_baryon = agama.Potential(agama_pot_path+'MWPotentialHunter24_baryon_axi.ini')\n",
    "pot_axi_baryon = pot_axi_Hunter_baryon\n",
    "\n",
    "# Choose circular velocity at Sun's radius and mass enclosed\n",
    "vc0 = 233.1 #km/s\n",
    "M20 = 2.17  #10^11 M_sun\n",
    "\n",
    "pot = make_pot(233.1, 2.17, pot_axi_baryon)\n",
    "\n"
   ]
  }
 ],
 "metadata": {
  "kernelspec": {
   "display_name": "myenv",
   "language": "python",
   "name": "python3"
  },
  "language_info": {
   "codemirror_mode": {
    "name": "ipython",
    "version": 3
   },
   "file_extension": ".py",
   "mimetype": "text/x-python",
   "name": "python",
   "nbconvert_exporter": "python",
   "pygments_lexer": "ipython3",
   "version": "3.12.7"
  }
 },
 "nbformat": 4,
 "nbformat_minor": 2
}
